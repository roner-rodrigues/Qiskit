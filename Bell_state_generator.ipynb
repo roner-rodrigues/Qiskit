{
  "nbformat": 4,
  "nbformat_minor": 0,
  "metadata": {
    "colab": {
      "provenance": [],
      "toc_visible": true,
      "authorship_tag": "ABX9TyMRgq1LBGyubAN2l7fnd/sL",
      "include_colab_link": true
    },
    "kernelspec": {
      "name": "python3",
      "display_name": "Python 3"
    },
    "language_info": {
      "name": "python"
    }
  },
  "cells": [
    {
      "cell_type": "markdown",
      "metadata": {
        "id": "view-in-github",
        "colab_type": "text"
      },
      "source": [
        "<a href=\"https://colab.research.google.com/github/roner-rodrigues/Qiskit-projects/blob/main/Bell_state_generator.ipynb\" target=\"_parent\"><img src=\"https://colab.research.google.com/assets/colab-badge.svg\" alt=\"Open In Colab\"/></a>"
      ]
    },
    {
      "cell_type": "code",
      "execution_count": null,
      "metadata": {
        "id": "44-6x_aAu2tn",
        "colab": {
          "base_uri": "https://localhost:8080/",
          "height": 359
        },
        "outputId": "98f32bdd-979e-4149-96e4-7a01f612ba36"
      },
      "outputs": [
        {
          "output_type": "stream",
          "name": "stdout",
          "text": [
            "      ┌───┐     ┌─┐   \n",
            "q1_0: ┤ H ├──■──┤M├───\n",
            "      └───┘┌─┴─┐└╥┘┌─┐\n",
            "q1_1: ─────┤ X ├─╫─┤M├\n",
            "           └───┘ ║ └╥┘\n",
            "c1: 2/═══════════╩══╩═\n",
            "                 0  1 \n"
          ]
        },
        {
          "output_type": "error",
          "ename": "AttributeError",
          "evalue": "module 'qiskit' has no attribute 'BasicAer'",
          "traceback": [
            "\u001b[0;31m---------------------------------------------------------------------------\u001b[0m",
            "\u001b[0;31mAttributeError\u001b[0m                            Traceback (most recent call last)",
            "\u001b[0;32m<ipython-input-5-5bd7be5cdd6d>\u001b[0m in \u001b[0;36m<cell line: 20>\u001b[0;34m()\u001b[0m\n\u001b[1;32m     18\u001b[0m \u001b[0;34m\u001b[0m\u001b[0m\n\u001b[1;32m     19\u001b[0m \u001b[0;31m# Using Qiskit Aer's Qasm Simulator\u001b[0m\u001b[0;34m\u001b[0m\u001b[0;34m\u001b[0m\u001b[0m\n\u001b[0;32m---> 20\u001b[0;31m \u001b[0msimulator\u001b[0m \u001b[0;34m=\u001b[0m \u001b[0mqk\u001b[0m\u001b[0;34m.\u001b[0m\u001b[0mBasicAer\u001b[0m\u001b[0;34m.\u001b[0m\u001b[0mget_backend\u001b[0m\u001b[0;34m(\u001b[0m\u001b[0;34m'qasm_simulator'\u001b[0m\u001b[0;34m)\u001b[0m\u001b[0;34m\u001b[0m\u001b[0;34m\u001b[0m\u001b[0m\n\u001b[0m\u001b[1;32m     21\u001b[0m \u001b[0;34m\u001b[0m\u001b[0m\n\u001b[1;32m     22\u001b[0m \u001b[0;31m# Simulating the circuit using the simulator to get the result\u001b[0m\u001b[0;34m\u001b[0m\u001b[0;34m\u001b[0m\u001b[0m\n",
            "\u001b[0;31mAttributeError\u001b[0m: module 'qiskit' has no attribute 'BasicAer'"
          ]
        }
      ],
      "source": [
        "import qiskit as qk\n",
        "\n",
        "# Creating Qubits\n",
        "q = qk.QuantumRegister(2)\n",
        "# Creating Classical Bits\n",
        "c = qk.ClassicalRegister(2)\n",
        "\n",
        "circuit = qk.QuantumCircuit(q, c)\n",
        "\n",
        "# Hadamard Gate on the first Qubit\n",
        "circuit.h(q[0])\n",
        "# CNOT Gate on the first and second Qubits\n",
        "circuit.cx(q[0], q[1])\n",
        "# Measuring the Qubits\n",
        "circuit.measure(q, c)\n",
        "\n",
        "print (circuit)\n"
      ]
    }
  ]
}