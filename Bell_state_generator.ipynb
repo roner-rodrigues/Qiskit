{
  "nbformat": 4,
  "nbformat_minor": 0,
  "metadata": {
    "colab": {
      "provenance": [],
      "toc_visible": true,
      "authorship_tag": "ABX9TyPgpTEk4XmRSFJi0oPVOPDP",
      "include_colab_link": true
    },
    "kernelspec": {
      "name": "python3",
      "display_name": "Python 3"
    },
    "language_info": {
      "name": "python"
    }
  },
  "cells": [
    {
      "cell_type": "markdown",
      "metadata": {
        "id": "view-in-github",
        "colab_type": "text"
      },
      "source": [
        "<a href=\"https://colab.research.google.com/github/roner-rodrigues/Qiskit-projects/blob/main/Bell_state_generator.ipynb\" target=\"_parent\"><img src=\"https://colab.research.google.com/assets/colab-badge.svg\" alt=\"Open In Colab\"/></a>"
      ]
    },
    {
      "cell_type": "code",
      "execution_count": 4,
      "metadata": {
        "id": "44-6x_aAu2tn",
        "colab": {
          "base_uri": "https://localhost:8080/"
        },
        "outputId": "782363b0-860a-497a-c55b-1883b82fb104"
      },
      "outputs": [
        {
          "output_type": "stream",
          "name": "stdout",
          "text": [
            "      ┌───┐     ┌─┐   \n",
            "q0_0: ┤ H ├──■──┤M├───\n",
            "      └───┘┌─┴─┐└╥┘┌─┐\n",
            "q0_1: ─────┤ X ├─╫─┤M├\n",
            "           └───┘ ║ └╥┘\n",
            "c0: 2/═══════════╩══╩═\n",
            "                 0  1 \n"
          ]
        }
      ],
      "source": [
        "import qiskit as qk\n",
        "\n",
        "# Creating Qubits\n",
        "q = qk.QuantumRegister(2)\n",
        "# Creating Classical Bits\n",
        "c = qk.ClassicalRegister(2)\n",
        "\n",
        "circuit = qk.QuantumCircuit(q, c)\n",
        "\n",
        "# Hadamard Gate on the first Qubit\n",
        "circuit.h(q[0])\n",
        "# CNOT Gate on the first and second Qubits\n",
        "circuit.cx(q[0], q[1])\n",
        "# Measuring the Qubits\n",
        "circuit.measure(q, c)\n",
        "\n",
        "print (circuit)"
      ]
    }
  ]
}